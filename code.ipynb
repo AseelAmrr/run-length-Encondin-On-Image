{
 "cells": [
  {
   "cell_type": "code",
   "execution_count": null,
   "metadata": {},
   "outputs": [],
   "source": [
    "import matplotlib.pyplot as plt\n",
    "from PIL import Image\n",
    "import numpy as np"
   ]
  },
  {
   "cell_type": "code",
   "execution_count": null,
   "metadata": {},
   "outputs": [],
   "source": [
    "image = Image.open('Test.jpg')"
   ]
  },
  {
   "cell_type": "code",
   "execution_count": null,
   "metadata": {},
   "outputs": [],
   "source": [
    "plt.imshow(image)"
   ]
  },
  {
   "cell_type": "code",
   "execution_count": null,
   "metadata": {},
   "outputs": [],
   "source": [
    "def get_size(image):\n",
    "  return image.size"
   ]
  },
  {
   "cell_type": "code",
   "execution_count": null,
   "metadata": {},
   "outputs": [],
   "source": [
    "def quantization(image, n):\n",
    "  return image.quantize(n)"
   ]
  },
  {
   "cell_type": "code",
   "execution_count": null,
   "metadata": {},
   "outputs": [],
   "source": [
    "def get_pixel_value(img,col,row):\n",
    "  return img.getpixel((col,row))"
   ]
  },
  {
   "cell_type": "code",
   "execution_count": null,
   "metadata": {},
   "outputs": [],
   "source": [
    "def get_unique_values(image):\n",
    "  return np.unique(image), len(np.unique(image))"
   ]
  },
  {
   "cell_type": "code",
   "execution_count": null,
   "metadata": {},
   "outputs": [],
   "source": [
    "def extract_row_color(arr,row,color):\n",
    "  filtered = filter(lambda item: ((item[0] == row) and (item[-1] == color)), arr)\n",
    "  return list(filtered)"
   ]
  },
  {
   "cell_type": "code",
   "execution_count": null,
   "metadata": {},
   "outputs": [],
   "source": [
    "def merge_row_color(filtered, row, color):\n",
    "  remove_row_color = [item[1:-1] for item in filtered]\n",
    "  merge_runs = (row,)\n",
    "  for item in remove_row_color:\n",
    "    merge_runs = merge_runs + item\n",
    "  otp = merge_runs + (color,)\n",
    "  return otp"
   ]
  },
  {
   "cell_type": "code",
   "execution_count": null,
   "metadata": {},
   "outputs": [],
   "source": [
    "def show_image_information(image):\n",
    "  original_colors = []\n",
    "  quantized_colors=[]\n",
    "  x = quantization(image, 9)\n",
    "  original_colors =  get_unique_values(image)\n",
    "  quantized_colors = get_unique_values(x)\n",
    "\n",
    "\n",
    "  return original_colors,quantized_colors"
   ]
  },
  {
   "cell_type": "code",
   "execution_count": null,
   "metadata": {},
   "outputs": [],
   "source": [
    "show_image_information(image)"
   ]
  },
  {
   "cell_type": "code",
   "execution_count": null,
   "metadata": {},
   "outputs": [],
   "source": [
    "from os.path import getsize\n",
    "def compute_runs(image, unique_values):\n",
    "  runs_code = []\n",
    "  \n",
    "  width ,height = get_size(image)\n",
    "  for i in range(height):\n",
    "    x=0\n",
    "    for j in range(width):\n",
    "      color=get_pixel_value(image,j,i)\n",
    "      tuples = (i,j,j,color)\n",
    "      if j>=x:\n",
    "        for n in range (j,width):\n",
    "         if color == get_pixel_value(image,n,i):\n",
    "           tuples = (i,j,n,color)\n",
    "         else:\n",
    "           runs_code = runs_code + [tuples]\n",
    "           x = n\n",
    "\n",
    "           break\n",
    "             \n",
    "  return runs_code"
   ]
  },
  {
   "cell_type": "code",
   "execution_count": null,
   "metadata": {},
   "outputs": [],
   "source": [
    "image_quantized = quantization(image, 9)\n",
    "unique_values,length_unique_values = get_unique_values(image_quantized)\n",
    "image_runs = compute_runs(image_quantized, unique_values)\n",
    "image_runs"
   ]
  },
  {
   "cell_type": "code",
   "execution_count": null,
   "metadata": {},
   "outputs": [],
   "source": [
    "def compute_RLE(image, unique_values):\n",
    "  result = []\n",
    "  width , height = get_size(image)\n",
    "  arr = compute_runs(image,unique_values)\n",
    "  for i in range(height):\n",
    "    for c in range(len(unique_values)):\n",
    "      output = extract_row_color(arr,i,unique_values[c])\n",
    "      if output != []:\n",
    "        result = result+ [merge_row_color(output, i, unique_values[c])]\n",
    "\n",
    "  return result"
   ]
  },
  {
   "cell_type": "code",
   "execution_count": null,
   "metadata": {},
   "outputs": [],
   "source": [
    "runLength=compute_RLE(image_quantized,unique_values)\n",
    "runLength"
   ]
  },
  {
   "cell_type": "code",
   "execution_count": null,
   "metadata": {},
   "outputs": [],
   "source": [
    "width , height = get_size(image)\n",
    "print(width)\n",
    "print(length_unique_values)"
   ]
  }
 ],
 "metadata": {
  "language_info": {
   "name": "python"
  },
  "orig_nbformat": 4
 },
 "nbformat": 4,
 "nbformat_minor": 2
}
